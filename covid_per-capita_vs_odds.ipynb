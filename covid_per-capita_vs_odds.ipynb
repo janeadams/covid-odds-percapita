{
 "cells": [
  {
   "cell_type": "code",
   "execution_count": 106,
   "metadata": {},
   "outputs": [],
   "source": [
    "import pandas as pd\n",
    "import json\n",
    "import plotly.graph_objects as go\n",
    "import numpy as np"
   ]
  },
  {
   "cell_type": "code",
   "execution_count": 65,
   "metadata": {},
   "outputs": [],
   "source": [
    "covid = pd.read_csv('https://api.covidtracking.com/v1/states/current.csv')"
   ]
  },
  {
   "cell_type": "code",
   "execution_count": 66,
   "metadata": {},
   "outputs": [],
   "source": [
    "with open('state_lookup.json') as f:\n",
    "    code_lookup = json.load(f)\n",
    "    state_lookup = {y:x for x,y in code_lookup.items()}"
   ]
  },
  {
   "cell_type": "code",
   "execution_count": 67,
   "metadata": {},
   "outputs": [],
   "source": [
    "population = pd.read_csv('state_populations.csv')"
   ]
  },
  {
   "cell_type": "code",
   "execution_count": 68,
   "metadata": {},
   "outputs": [],
   "source": [
    "population['code']=[code_lookup[s] for s in population['State']]"
   ]
  },
  {
   "cell_type": "code",
   "execution_count": 69,
   "metadata": {},
   "outputs": [],
   "source": [
    "def pop_lookup(state):\n",
    "    try:\n",
    "        return pop_dict[state]\n",
    "    except:\n",
    "        return None"
   ]
  },
  {
   "cell_type": "code",
   "execution_count": 70,
   "metadata": {},
   "outputs": [],
   "source": [
    "covid['population']=[pop_lookup(s) for s in covid['state']]"
   ]
  },
  {
   "cell_type": "code",
   "execution_count": 71,
   "metadata": {},
   "outputs": [],
   "source": [
    "covid.dropna(subset=['population'], inplace=True)"
   ]
  },
  {
   "cell_type": "code",
   "execution_count": 74,
   "metadata": {},
   "outputs": [
    {
     "data": {
      "text/plain": [
       "Index(['date', 'state', 'positive', 'probableCases', 'negative', 'pending',\n",
       "       'totalTestResults', 'hospitalizedCurrently', 'hospitalizedCumulative',\n",
       "       'inIcuCurrently', 'inIcuCumulative', 'onVentilatorCurrently',\n",
       "       'onVentilatorCumulative', 'recovered', 'dataQualityGrade',\n",
       "       'lastUpdateEt', 'dateModified', 'checkTimeEt', 'death', 'hospitalized',\n",
       "       'dateChecked', 'totalTestsViral', 'positiveTestsViral',\n",
       "       'negativeTestsViral', 'positiveCasesViral', 'deathConfirmed',\n",
       "       'deathProbable', 'totalTestEncountersViral', 'totalTestsPeopleViral',\n",
       "       'totalTestsAntibody', 'positiveTestsAntibody', 'negativeTestsAntibody',\n",
       "       'totalTestsPeopleAntibody', 'positiveTestsPeopleAntibody',\n",
       "       'negativeTestsPeopleAntibody', 'totalTestsPeopleAntigen',\n",
       "       'positiveTestsPeopleAntigen', 'totalTestsAntigen',\n",
       "       'positiveTestsAntigen', 'fips', 'positiveIncrease', 'negativeIncrease',\n",
       "       'total', 'totalTestResultsSource', 'totalTestResultsIncrease', 'posNeg',\n",
       "       'deathIncrease', 'hospitalizedIncrease', 'hash', 'commercialScore',\n",
       "       'negativeRegularScore', 'negativeScore', 'positiveScore', 'score',\n",
       "       'grade', 'population'],\n",
       "      dtype='object')"
      ]
     },
     "execution_count": 74,
     "metadata": {},
     "output_type": "execute_result"
    }
   ],
   "source": [
    "covid.columns"
   ]
  },
  {
   "cell_type": "code",
   "execution_count": 82,
   "metadata": {},
   "outputs": [],
   "source": [
    "df = covid.filter(['state','positive','death','population'])\n",
    "df['per_capita_positive']=[(pos/pop)*100000 for pos,pop in zip(df['positive'],df['population'])]\n",
    "df['per_capita_death']=[(death/pop)*100000 for death,pop in zip(df['death'],df['population'])]\n",
    "df['odds_positive']=[100000/pcp for pcp in df['per_capita_positive']]\n",
    "df['odds_death']=[100000/pcd for pcd in df['per_capita_death']]"
   ]
  },
  {
   "cell_type": "code",
   "execution_count": 2,
   "metadata": {},
   "outputs": [],
   "source": [
    "import plotly.graph_objects as go"
   ]
  },
  {
   "cell_type": "code",
   "execution_count": 107,
   "metadata": {},
   "outputs": [
    {
     "data": {
      "text/plain": [
       "8928.0"
      ]
     },
     "execution_count": 107,
     "metadata": {},
     "output_type": "execute_result"
    }
   ],
   "source": [
    "np.round(8928.32)"
   ]
  },
  {
   "cell_type": "code",
   "execution_count": 150,
   "metadata": {},
   "outputs": [
    {
     "data": {
      "application/vnd.plotly.v1+json": {
       "config": {
        "plotlyServerURL": "https://plot.ly"
       },
       "data": [
        {
         "hovertemplate": "<b>Example</b><br><b>Per capita:</b> %{x} per 100,000 People<br><b>Odds:</b> 1 in %{y} People<extra></extra>",
         "line": {
          "color": "slateblue"
         },
         "mode": "lines+markers",
         "name": "Example",
         "opacity": 0.5,
         "type": "scatter",
         "x": [
          2,
          10,
          50,
          100,
          200,
          500,
          1000,
          10000
         ],
         "y": [
          50000,
          10000,
          2000,
          1000,
          500,
          200,
          100,
          10
         ]
        },
        {
         "hovertemplate": "Cases in <b>%{text}</b><br><b>Per capita:</b> %{x} per 100,000 People<br><b>Odds:</b> 1 in %{y} People<extra></extra>",
         "line": {
          "color": "purple"
         },
         "marker": {
          "size": [
           1.476136,
           9.777898,
           6.040654,
           14.247796,
           79.55366,
           11.368406,
           7.177366,
           1.407216,
           1.94236,
           42.624422,
           21.090276,
           2.852786,
           6.321106,
           3.50772,
           25.53664,
           13.399258,
           5.83703,
           8.94453,
           9.365018,
           13.791834,
           12.159204,
           2.683164,
           19.982354,
           11.256324,
           12.271776,
           5.96557,
           2.12466,
           20.780298,
           1.510476,
           3.865098,
           2.70115,
           18.065744,
           4.181416,
           6.113648,
           39.725024,
           23.389328,
           7.881042,
           8.399126,
           25.647978,
           2.123424,
           10.177832,
           1.75558,
           13.565128,
           57.40866,
           6.31869,
           17.05132,
           1.24792,
           15.061104,
           11.636098,
           3.606154,
           1.14744
          ]
         },
         "mode": "markers",
         "name": "Positive Cases",
         "text": [
          "Alaska",
          "Alabama",
          "Arkansas",
          "Arizona",
          "California",
          "Colorado",
          "Connecticut",
          "District of Columbia",
          "Delaware",
          "Florida",
          "Georgia",
          "Hawaii",
          "Iowa",
          "Idaho",
          "Illinois",
          "Indiana",
          "Kansas",
          "Kentucky",
          "Louisiana",
          "Massachusetts",
          "Maryland",
          "Maine",
          "Michigan",
          "Minnesota",
          "Missouri",
          "Mississippi",
          "Montana",
          "North Carolina",
          "North Dakota",
          "Nebraska",
          "New Hampshire",
          "New Jersey",
          "New Mexico",
          "Nevada",
          "New York",
          "Ohio",
          "Oklahoma",
          "Oregon",
          "Pennsylvania",
          "Rhode Island",
          "South Carolina",
          "South Dakota",
          "Tennessee",
          "Texas",
          "Utah",
          "Virginia",
          "Vermont",
          "Washington",
          "Wisconsin",
          "West Virginia",
          "Wyoming"
         ],
         "type": "scatter",
         "x": [
          1299,
          3282,
          2916,
          3115,
          2083,
          1294,
          1651,
          2225,
          2210,
          3379,
          3079,
          914,
          2846,
          2533,
          2410,
          1895,
          2149,
          1659,
          3641,
          1972,
          2109,
          415,
          1440,
          1879,
          2193,
          3376,
          1445,
          2129,
          3226,
          2497,
          646,
          2318,
          1465,
          2712,
          2351,
          1379,
          2369,
          842,
          1289,
          2411,
          3006,
          2834,
          3028,
          2694,
          2514,
          1797,
          292,
          1199,
          2470,
          939,
          1180
         ],
         "y": [
          77,
          30,
          34,
          32,
          48,
          77,
          61,
          45,
          45,
          30,
          32,
          109,
          35,
          39,
          41,
          53,
          47,
          60,
          27,
          51,
          47,
          241,
          69,
          53,
          46,
          30,
          69,
          47,
          31,
          40,
          155,
          43,
          68,
          37,
          43,
          73,
          42,
          119,
          78,
          41,
          33,
          35,
          33,
          37,
          40,
          56,
          343,
          83,
          40,
          106,
          85
         ]
        },
        {
         "hovertemplate": "Deaths in <b>%{text}</b><br><b>Per capita:</b> %{x} per 100,000 People<br><b>Odds:</b> 1 in %{y} People<extra></extra>",
         "line": {
          "color": "red"
         },
         "marker": {
          "size": [
           1.476136,
           9.777898,
           6.040654,
           14.247796,
           79.55366,
           11.368406,
           7.177366,
           1.407216,
           1.94236,
           42.624422,
           21.090276,
           2.852786,
           6.321106,
           3.50772,
           25.53664,
           13.399258,
           5.83703,
           8.94453,
           9.365018,
           13.791834,
           12.159204,
           2.683164,
           19.982354,
           11.256324,
           12.271776,
           5.96557,
           2.12466,
           20.780298,
           1.510476,
           3.865098,
           2.70115,
           18.065744,
           4.181416,
           6.113648,
           39.725024,
           23.389328,
           7.881042,
           8.399126,
           25.647978,
           2.123424,
           10.177832,
           1.75558,
           13.565128,
           57.40866,
           6.31869,
           17.05132,
           1.24792,
           15.061104,
           11.636098,
           3.606154,
           1.14744
          ]
         },
         "mode": "markers",
         "name": "Deaths",
         "text": [
          "Alaska",
          "Alabama",
          "Arkansas",
          "Arizona",
          "California",
          "Colorado",
          "Connecticut",
          "District of Columbia",
          "Delaware",
          "Florida",
          "Georgia",
          "Hawaii",
          "Iowa",
          "Idaho",
          "Illinois",
          "Indiana",
          "Kansas",
          "Kentucky",
          "Louisiana",
          "Massachusetts",
          "Maryland",
          "Maine",
          "Michigan",
          "Minnesota",
          "Missouri",
          "Mississippi",
          "Montana",
          "North Carolina",
          "North Dakota",
          "Nebraska",
          "New Hampshire",
          "New Jersey",
          "New Mexico",
          "Nevada",
          "New York",
          "Ohio",
          "Oklahoma",
          "Oregon",
          "Pennsylvania",
          "Rhode Island",
          "South Carolina",
          "South Dakota",
          "Tennessee",
          "Texas",
          "Utah",
          "Virginia",
          "Vermont",
          "Washington",
          "Wisconsin",
          "West Virginia",
          "Wyoming"
         ],
         "type": "scatter",
         "x": [
          8,
          53,
          48,
          80,
          41,
          35,
          126,
          90,
          67,
          70,
          69,
          11,
          44,
          28,
          71,
          55,
          24,
          27,
          119,
          138,
          65,
          11,
          72,
          38,
          36,
          101,
          18,
          35,
          29,
          26,
          33,
          179,
          43,
          53,
          129,
          42,
          27,
          14,
          64,
          106,
          68,
          28,
          39,
          56,
          15,
          39,
          9,
          29,
          24,
          20,
          9
         ],
         "y": [
          12725,
          1895,
          2087,
          1247,
          2459,
          2888,
          794,
          1115,
          1503,
          1426,
          1459,
          9085,
          2258,
          3601,
          1405,
          1805,
          4134,
          3672,
          837,
          723,
          1533,
          9448,
          1395,
          2630,
          2789,
          990,
          5533,
          2831,
          3480,
          3842,
          3028,
          559,
          2339,
          1877,
          778,
          2364,
          3697,
          7228,
          1556,
          944,
          1466,
          3539,
          2588,
          1782,
          6474,
          2591,
          10758,
          3490,
          4126,
          4954,
          10825
         ]
        }
       ],
       "layout": {
        "annotations": [
         {
          "bgcolor": "white",
          "bordercolor": "gray",
          "borderpad": 6,
          "borderwidth": 2,
          "showarrow": false,
          "text": "Case & death data from <a href='https://covidtracking.com' target='_blank'>covidtracking.com</a><br>Population data from <a href='https://worldpopulationreview.com/states' target='_blank'>World Population Review</a>",
          "x": 1,
          "xref": "x",
          "y": 1,
          "yref": "y"
         }
        ],
        "template": {
         "data": {
          "bar": [
           {
            "error_x": {
             "color": "#2a3f5f"
            },
            "error_y": {
             "color": "#2a3f5f"
            },
            "marker": {
             "line": {
              "color": "white",
              "width": 0.5
             }
            },
            "type": "bar"
           }
          ],
          "barpolar": [
           {
            "marker": {
             "line": {
              "color": "white",
              "width": 0.5
             }
            },
            "type": "barpolar"
           }
          ],
          "carpet": [
           {
            "aaxis": {
             "endlinecolor": "#2a3f5f",
             "gridcolor": "#C8D4E3",
             "linecolor": "#C8D4E3",
             "minorgridcolor": "#C8D4E3",
             "startlinecolor": "#2a3f5f"
            },
            "baxis": {
             "endlinecolor": "#2a3f5f",
             "gridcolor": "#C8D4E3",
             "linecolor": "#C8D4E3",
             "minorgridcolor": "#C8D4E3",
             "startlinecolor": "#2a3f5f"
            },
            "type": "carpet"
           }
          ],
          "choropleth": [
           {
            "colorbar": {
             "outlinewidth": 0,
             "ticks": ""
            },
            "type": "choropleth"
           }
          ],
          "contour": [
           {
            "colorbar": {
             "outlinewidth": 0,
             "ticks": ""
            },
            "colorscale": [
             [
              0,
              "#0d0887"
             ],
             [
              0.1111111111111111,
              "#46039f"
             ],
             [
              0.2222222222222222,
              "#7201a8"
             ],
             [
              0.3333333333333333,
              "#9c179e"
             ],
             [
              0.4444444444444444,
              "#bd3786"
             ],
             [
              0.5555555555555556,
              "#d8576b"
             ],
             [
              0.6666666666666666,
              "#ed7953"
             ],
             [
              0.7777777777777778,
              "#fb9f3a"
             ],
             [
              0.8888888888888888,
              "#fdca26"
             ],
             [
              1,
              "#f0f921"
             ]
            ],
            "type": "contour"
           }
          ],
          "contourcarpet": [
           {
            "colorbar": {
             "outlinewidth": 0,
             "ticks": ""
            },
            "type": "contourcarpet"
           }
          ],
          "heatmap": [
           {
            "colorbar": {
             "outlinewidth": 0,
             "ticks": ""
            },
            "colorscale": [
             [
              0,
              "#0d0887"
             ],
             [
              0.1111111111111111,
              "#46039f"
             ],
             [
              0.2222222222222222,
              "#7201a8"
             ],
             [
              0.3333333333333333,
              "#9c179e"
             ],
             [
              0.4444444444444444,
              "#bd3786"
             ],
             [
              0.5555555555555556,
              "#d8576b"
             ],
             [
              0.6666666666666666,
              "#ed7953"
             ],
             [
              0.7777777777777778,
              "#fb9f3a"
             ],
             [
              0.8888888888888888,
              "#fdca26"
             ],
             [
              1,
              "#f0f921"
             ]
            ],
            "type": "heatmap"
           }
          ],
          "heatmapgl": [
           {
            "colorbar": {
             "outlinewidth": 0,
             "ticks": ""
            },
            "colorscale": [
             [
              0,
              "#0d0887"
             ],
             [
              0.1111111111111111,
              "#46039f"
             ],
             [
              0.2222222222222222,
              "#7201a8"
             ],
             [
              0.3333333333333333,
              "#9c179e"
             ],
             [
              0.4444444444444444,
              "#bd3786"
             ],
             [
              0.5555555555555556,
              "#d8576b"
             ],
             [
              0.6666666666666666,
              "#ed7953"
             ],
             [
              0.7777777777777778,
              "#fb9f3a"
             ],
             [
              0.8888888888888888,
              "#fdca26"
             ],
             [
              1,
              "#f0f921"
             ]
            ],
            "type": "heatmapgl"
           }
          ],
          "histogram": [
           {
            "marker": {
             "colorbar": {
              "outlinewidth": 0,
              "ticks": ""
             }
            },
            "type": "histogram"
           }
          ],
          "histogram2d": [
           {
            "colorbar": {
             "outlinewidth": 0,
             "ticks": ""
            },
            "colorscale": [
             [
              0,
              "#0d0887"
             ],
             [
              0.1111111111111111,
              "#46039f"
             ],
             [
              0.2222222222222222,
              "#7201a8"
             ],
             [
              0.3333333333333333,
              "#9c179e"
             ],
             [
              0.4444444444444444,
              "#bd3786"
             ],
             [
              0.5555555555555556,
              "#d8576b"
             ],
             [
              0.6666666666666666,
              "#ed7953"
             ],
             [
              0.7777777777777778,
              "#fb9f3a"
             ],
             [
              0.8888888888888888,
              "#fdca26"
             ],
             [
              1,
              "#f0f921"
             ]
            ],
            "type": "histogram2d"
           }
          ],
          "histogram2dcontour": [
           {
            "colorbar": {
             "outlinewidth": 0,
             "ticks": ""
            },
            "colorscale": [
             [
              0,
              "#0d0887"
             ],
             [
              0.1111111111111111,
              "#46039f"
             ],
             [
              0.2222222222222222,
              "#7201a8"
             ],
             [
              0.3333333333333333,
              "#9c179e"
             ],
             [
              0.4444444444444444,
              "#bd3786"
             ],
             [
              0.5555555555555556,
              "#d8576b"
             ],
             [
              0.6666666666666666,
              "#ed7953"
             ],
             [
              0.7777777777777778,
              "#fb9f3a"
             ],
             [
              0.8888888888888888,
              "#fdca26"
             ],
             [
              1,
              "#f0f921"
             ]
            ],
            "type": "histogram2dcontour"
           }
          ],
          "mesh3d": [
           {
            "colorbar": {
             "outlinewidth": 0,
             "ticks": ""
            },
            "type": "mesh3d"
           }
          ],
          "parcoords": [
           {
            "line": {
             "colorbar": {
              "outlinewidth": 0,
              "ticks": ""
             }
            },
            "type": "parcoords"
           }
          ],
          "pie": [
           {
            "automargin": true,
            "type": "pie"
           }
          ],
          "scatter": [
           {
            "marker": {
             "colorbar": {
              "outlinewidth": 0,
              "ticks": ""
             }
            },
            "type": "scatter"
           }
          ],
          "scatter3d": [
           {
            "line": {
             "colorbar": {
              "outlinewidth": 0,
              "ticks": ""
             }
            },
            "marker": {
             "colorbar": {
              "outlinewidth": 0,
              "ticks": ""
             }
            },
            "type": "scatter3d"
           }
          ],
          "scattercarpet": [
           {
            "marker": {
             "colorbar": {
              "outlinewidth": 0,
              "ticks": ""
             }
            },
            "type": "scattercarpet"
           }
          ],
          "scattergeo": [
           {
            "marker": {
             "colorbar": {
              "outlinewidth": 0,
              "ticks": ""
             }
            },
            "type": "scattergeo"
           }
          ],
          "scattergl": [
           {
            "marker": {
             "colorbar": {
              "outlinewidth": 0,
              "ticks": ""
             }
            },
            "type": "scattergl"
           }
          ],
          "scattermapbox": [
           {
            "marker": {
             "colorbar": {
              "outlinewidth": 0,
              "ticks": ""
             }
            },
            "type": "scattermapbox"
           }
          ],
          "scatterpolar": [
           {
            "marker": {
             "colorbar": {
              "outlinewidth": 0,
              "ticks": ""
             }
            },
            "type": "scatterpolar"
           }
          ],
          "scatterpolargl": [
           {
            "marker": {
             "colorbar": {
              "outlinewidth": 0,
              "ticks": ""
             }
            },
            "type": "scatterpolargl"
           }
          ],
          "scatterternary": [
           {
            "marker": {
             "colorbar": {
              "outlinewidth": 0,
              "ticks": ""
             }
            },
            "type": "scatterternary"
           }
          ],
          "surface": [
           {
            "colorbar": {
             "outlinewidth": 0,
             "ticks": ""
            },
            "colorscale": [
             [
              0,
              "#0d0887"
             ],
             [
              0.1111111111111111,
              "#46039f"
             ],
             [
              0.2222222222222222,
              "#7201a8"
             ],
             [
              0.3333333333333333,
              "#9c179e"
             ],
             [
              0.4444444444444444,
              "#bd3786"
             ],
             [
              0.5555555555555556,
              "#d8576b"
             ],
             [
              0.6666666666666666,
              "#ed7953"
             ],
             [
              0.7777777777777778,
              "#fb9f3a"
             ],
             [
              0.8888888888888888,
              "#fdca26"
             ],
             [
              1,
              "#f0f921"
             ]
            ],
            "type": "surface"
           }
          ],
          "table": [
           {
            "cells": {
             "fill": {
              "color": "#EBF0F8"
             },
             "line": {
              "color": "white"
             }
            },
            "header": {
             "fill": {
              "color": "#C8D4E3"
             },
             "line": {
              "color": "white"
             }
            },
            "type": "table"
           }
          ]
         },
         "layout": {
          "annotationdefaults": {
           "arrowcolor": "#2a3f5f",
           "arrowhead": 0,
           "arrowwidth": 1
          },
          "coloraxis": {
           "colorbar": {
            "outlinewidth": 0,
            "ticks": ""
           }
          },
          "colorscale": {
           "diverging": [
            [
             0,
             "#8e0152"
            ],
            [
             0.1,
             "#c51b7d"
            ],
            [
             0.2,
             "#de77ae"
            ],
            [
             0.3,
             "#f1b6da"
            ],
            [
             0.4,
             "#fde0ef"
            ],
            [
             0.5,
             "#f7f7f7"
            ],
            [
             0.6,
             "#e6f5d0"
            ],
            [
             0.7,
             "#b8e186"
            ],
            [
             0.8,
             "#7fbc41"
            ],
            [
             0.9,
             "#4d9221"
            ],
            [
             1,
             "#276419"
            ]
           ],
           "sequential": [
            [
             0,
             "#0d0887"
            ],
            [
             0.1111111111111111,
             "#46039f"
            ],
            [
             0.2222222222222222,
             "#7201a8"
            ],
            [
             0.3333333333333333,
             "#9c179e"
            ],
            [
             0.4444444444444444,
             "#bd3786"
            ],
            [
             0.5555555555555556,
             "#d8576b"
            ],
            [
             0.6666666666666666,
             "#ed7953"
            ],
            [
             0.7777777777777778,
             "#fb9f3a"
            ],
            [
             0.8888888888888888,
             "#fdca26"
            ],
            [
             1,
             "#f0f921"
            ]
           ],
           "sequentialminus": [
            [
             0,
             "#0d0887"
            ],
            [
             0.1111111111111111,
             "#46039f"
            ],
            [
             0.2222222222222222,
             "#7201a8"
            ],
            [
             0.3333333333333333,
             "#9c179e"
            ],
            [
             0.4444444444444444,
             "#bd3786"
            ],
            [
             0.5555555555555556,
             "#d8576b"
            ],
            [
             0.6666666666666666,
             "#ed7953"
            ],
            [
             0.7777777777777778,
             "#fb9f3a"
            ],
            [
             0.8888888888888888,
             "#fdca26"
            ],
            [
             1,
             "#f0f921"
            ]
           ]
          },
          "colorway": [
           "#636efa",
           "#EF553B",
           "#00cc96",
           "#ab63fa",
           "#FFA15A",
           "#19d3f3",
           "#FF6692",
           "#B6E880",
           "#FF97FF",
           "#FECB52"
          ],
          "font": {
           "color": "#2a3f5f"
          },
          "geo": {
           "bgcolor": "white",
           "lakecolor": "white",
           "landcolor": "white",
           "showlakes": true,
           "showland": true,
           "subunitcolor": "#C8D4E3"
          },
          "hoverlabel": {
           "align": "left"
          },
          "hovermode": "closest",
          "mapbox": {
           "style": "light"
          },
          "paper_bgcolor": "white",
          "plot_bgcolor": "white",
          "polar": {
           "angularaxis": {
            "gridcolor": "#EBF0F8",
            "linecolor": "#EBF0F8",
            "ticks": ""
           },
           "bgcolor": "white",
           "radialaxis": {
            "gridcolor": "#EBF0F8",
            "linecolor": "#EBF0F8",
            "ticks": ""
           }
          },
          "scene": {
           "xaxis": {
            "backgroundcolor": "white",
            "gridcolor": "#DFE8F3",
            "gridwidth": 2,
            "linecolor": "#EBF0F8",
            "showbackground": true,
            "ticks": "",
            "zerolinecolor": "#EBF0F8"
           },
           "yaxis": {
            "backgroundcolor": "white",
            "gridcolor": "#DFE8F3",
            "gridwidth": 2,
            "linecolor": "#EBF0F8",
            "showbackground": true,
            "ticks": "",
            "zerolinecolor": "#EBF0F8"
           },
           "zaxis": {
            "backgroundcolor": "white",
            "gridcolor": "#DFE8F3",
            "gridwidth": 2,
            "linecolor": "#EBF0F8",
            "showbackground": true,
            "ticks": "",
            "zerolinecolor": "#EBF0F8"
           }
          },
          "shapedefaults": {
           "line": {
            "color": "#2a3f5f"
           }
          },
          "ternary": {
           "aaxis": {
            "gridcolor": "#DFE8F3",
            "linecolor": "#A2B1C6",
            "ticks": ""
           },
           "baxis": {
            "gridcolor": "#DFE8F3",
            "linecolor": "#A2B1C6",
            "ticks": ""
           },
           "bgcolor": "white",
           "caxis": {
            "gridcolor": "#DFE8F3",
            "linecolor": "#A2B1C6",
            "ticks": ""
           }
          },
          "title": {
           "x": 0.05
          },
          "xaxis": {
           "automargin": true,
           "gridcolor": "#EBF0F8",
           "linecolor": "#EBF0F8",
           "ticks": "",
           "title": {
            "standoff": 15
           },
           "zerolinecolor": "#EBF0F8",
           "zerolinewidth": 2
          },
          "yaxis": {
           "automargin": true,
           "gridcolor": "#EBF0F8",
           "linecolor": "#EBF0F8",
           "ticks": "",
           "title": {
            "standoff": 15
           },
           "zerolinecolor": "#EBF0F8",
           "zerolinewidth": 2
          }
         }
        },
        "title": {
         "text": "Per Capita vs. Odds: Positive Cases and Deaths"
        },
        "xaxis": {
         "showspikes": true,
         "title": {
          "text": "Per Capita: <b>X</b> per 100,000 People"
         },
         "type": "log"
        },
        "yaxis": {
         "autorange": "reversed",
         "showspikes": true,
         "title": {
          "text": "Odds: 1 in <b>Y</b> People"
         },
         "type": "log"
        }
       }
      },
      "text/html": [
       "<div>\n",
       "        \n",
       "        \n",
       "            <div id=\"922f0b29-fbc6-4f0c-a9bd-6174331fe0f1\" class=\"plotly-graph-div\" style=\"height:525px; width:100%;\"></div>\n",
       "            <script type=\"text/javascript\">\n",
       "                require([\"plotly\"], function(Plotly) {\n",
       "                    window.PLOTLYENV=window.PLOTLYENV || {};\n",
       "                    \n",
       "                if (document.getElementById(\"922f0b29-fbc6-4f0c-a9bd-6174331fe0f1\")) {\n",
       "                    Plotly.newPlot(\n",
       "                        '922f0b29-fbc6-4f0c-a9bd-6174331fe0f1',\n",
       "                        [{\"hovertemplate\": \"<b>Example</b><br><b>Per capita:</b> %{x} per 100,000 People<br><b>Odds:</b> 1 in %{y} People<extra></extra>\", \"line\": {\"color\": \"slateblue\"}, \"mode\": \"lines+markers\", \"name\": \"Example\", \"opacity\": 0.5, \"type\": \"scatter\", \"x\": [2, 10, 50, 100, 200, 500, 1000, 10000], \"y\": [50000.0, 10000.0, 2000.0, 1000.0, 500.0, 200.0, 100.0, 10.0]}, {\"hovertemplate\": \"Cases in <b>%{text}</b><br><b>Per capita:</b> %{x} per 100,000 People<br><b>Odds:</b> 1 in %{y} People<extra></extra>\", \"line\": {\"color\": \"purple\"}, \"marker\": {\"size\": [1.476136, 9.777898, 6.040654, 14.247796, 79.55366, 11.368406, 7.177366, 1.407216, 1.94236, 42.624422, 21.090276, 2.852786, 6.321106, 3.50772, 25.53664, 13.399258, 5.83703, 8.94453, 9.365018, 13.791834, 12.159204, 2.683164, 19.982354, 11.256324, 12.271776, 5.96557, 2.12466, 20.780298, 1.510476, 3.865098, 2.70115, 18.065744, 4.181416, 6.113648, 39.725024, 23.389328, 7.881042, 8.399126, 25.647978, 2.123424, 10.177832, 1.75558, 13.565128, 57.40866, 6.31869, 17.05132, 1.24792, 15.061104, 11.636098, 3.606154, 1.14744]}, \"mode\": \"markers\", \"name\": \"Positive Cases\", \"text\": [\"Alaska\", \"Alabama\", \"Arkansas\", \"Arizona\", \"California\", \"Colorado\", \"Connecticut\", \"District of Columbia\", \"Delaware\", \"Florida\", \"Georgia\", \"Hawaii\", \"Iowa\", \"Idaho\", \"Illinois\", \"Indiana\", \"Kansas\", \"Kentucky\", \"Louisiana\", \"Massachusetts\", \"Maryland\", \"Maine\", \"Michigan\", \"Minnesota\", \"Missouri\", \"Mississippi\", \"Montana\", \"North Carolina\", \"North Dakota\", \"Nebraska\", \"New Hampshire\", \"New Jersey\", \"New Mexico\", \"Nevada\", \"New York\", \"Ohio\", \"Oklahoma\", \"Oregon\", \"Pennsylvania\", \"Rhode Island\", \"South Carolina\", \"South Dakota\", \"Tennessee\", \"Texas\", \"Utah\", \"Virginia\", \"Vermont\", \"Washington\", \"Wisconsin\", \"West Virginia\", \"Wyoming\"], \"type\": \"scatter\", \"x\": [1299.0, 3282.0, 2916.0, 3115.0, 2083.0, 1294.0, 1651.0, 2225.0, 2210.0, 3379.0, 3079.0, 914.0, 2846.0, 2533.0, 2410.0, 1895.0, 2149.0, 1659.0, 3641.0, 1972.0, 2109.0, 415.0, 1440.0, 1879.0, 2193.0, 3376.0, 1445.0, 2129.0, 3226.0, 2497.0, 646.0, 2318.0, 1465.0, 2712.0, 2351.0, 1379.0, 2369.0, 842.0, 1289.0, 2411.0, 3006.0, 2834.0, 3028.0, 2694.0, 2514.0, 1797.0, 292.0, 1199.0, 2470.0, 939.0, 1180.0], \"y\": [77.0, 30.0, 34.0, 32.0, 48.0, 77.0, 61.0, 45.0, 45.0, 30.0, 32.0, 109.0, 35.0, 39.0, 41.0, 53.0, 47.0, 60.0, 27.0, 51.0, 47.0, 241.0, 69.0, 53.0, 46.0, 30.0, 69.0, 47.0, 31.0, 40.0, 155.0, 43.0, 68.0, 37.0, 43.0, 73.0, 42.0, 119.0, 78.0, 41.0, 33.0, 35.0, 33.0, 37.0, 40.0, 56.0, 343.0, 83.0, 40.0, 106.0, 85.0]}, {\"hovertemplate\": \"Deaths in <b>%{text}</b><br><b>Per capita:</b> %{x} per 100,000 People<br><b>Odds:</b> 1 in %{y} People<extra></extra>\", \"line\": {\"color\": \"red\"}, \"marker\": {\"size\": [1.476136, 9.777898, 6.040654, 14.247796, 79.55366, 11.368406, 7.177366, 1.407216, 1.94236, 42.624422, 21.090276, 2.852786, 6.321106, 3.50772, 25.53664, 13.399258, 5.83703, 8.94453, 9.365018, 13.791834, 12.159204, 2.683164, 19.982354, 11.256324, 12.271776, 5.96557, 2.12466, 20.780298, 1.510476, 3.865098, 2.70115, 18.065744, 4.181416, 6.113648, 39.725024, 23.389328, 7.881042, 8.399126, 25.647978, 2.123424, 10.177832, 1.75558, 13.565128, 57.40866, 6.31869, 17.05132, 1.24792, 15.061104, 11.636098, 3.606154, 1.14744]}, \"mode\": \"markers\", \"name\": \"Deaths\", \"text\": [\"Alaska\", \"Alabama\", \"Arkansas\", \"Arizona\", \"California\", \"Colorado\", \"Connecticut\", \"District of Columbia\", \"Delaware\", \"Florida\", \"Georgia\", \"Hawaii\", \"Iowa\", \"Idaho\", \"Illinois\", \"Indiana\", \"Kansas\", \"Kentucky\", \"Louisiana\", \"Massachusetts\", \"Maryland\", \"Maine\", \"Michigan\", \"Minnesota\", \"Missouri\", \"Mississippi\", \"Montana\", \"North Carolina\", \"North Dakota\", \"Nebraska\", \"New Hampshire\", \"New Jersey\", \"New Mexico\", \"Nevada\", \"New York\", \"Ohio\", \"Oklahoma\", \"Oregon\", \"Pennsylvania\", \"Rhode Island\", \"South Carolina\", \"South Dakota\", \"Tennessee\", \"Texas\", \"Utah\", \"Virginia\", \"Vermont\", \"Washington\", \"Wisconsin\", \"West Virginia\", \"Wyoming\"], \"type\": \"scatter\", \"x\": [8.0, 53.0, 48.0, 80.0, 41.0, 35.0, 126.0, 90.0, 67.0, 70.0, 69.0, 11.0, 44.0, 28.0, 71.0, 55.0, 24.0, 27.0, 119.0, 138.0, 65.0, 11.0, 72.0, 38.0, 36.0, 101.0, 18.0, 35.0, 29.0, 26.0, 33.0, 179.0, 43.0, 53.0, 129.0, 42.0, 27.0, 14.0, 64.0, 106.0, 68.0, 28.0, 39.0, 56.0, 15.0, 39.0, 9.0, 29.0, 24.0, 20.0, 9.0], \"y\": [12725.0, 1895.0, 2087.0, 1247.0, 2459.0, 2888.0, 794.0, 1115.0, 1503.0, 1426.0, 1459.0, 9085.0, 2258.0, 3601.0, 1405.0, 1805.0, 4134.0, 3672.0, 837.0, 723.0, 1533.0, 9448.0, 1395.0, 2630.0, 2789.0, 990.0, 5533.0, 2831.0, 3480.0, 3842.0, 3028.0, 559.0, 2339.0, 1877.0, 778.0, 2364.0, 3697.0, 7228.0, 1556.0, 944.0, 1466.0, 3539.0, 2588.0, 1782.0, 6474.0, 2591.0, 10758.0, 3490.0, 4126.0, 4954.0, 10825.0]}],\n",
       "                        {\"annotations\": [{\"bgcolor\": \"white\", \"bordercolor\": \"gray\", \"borderpad\": 6, \"borderwidth\": 2, \"showarrow\": false, \"text\": \"Case & death data from <a href='https://covidtracking.com' target='_blank'>covidtracking.com</a><br>Population data from <a href='https://worldpopulationreview.com/states' target='_blank'>World Population Review</a>\", \"x\": 1, \"xref\": \"x\", \"y\": 1, \"yref\": \"y\"}], \"template\": {\"data\": {\"bar\": [{\"error_x\": {\"color\": \"#2a3f5f\"}, \"error_y\": {\"color\": \"#2a3f5f\"}, \"marker\": {\"line\": {\"color\": \"white\", \"width\": 0.5}}, \"type\": \"bar\"}], \"barpolar\": [{\"marker\": {\"line\": {\"color\": \"white\", \"width\": 0.5}}, \"type\": \"barpolar\"}], \"carpet\": [{\"aaxis\": {\"endlinecolor\": \"#2a3f5f\", \"gridcolor\": \"#C8D4E3\", \"linecolor\": \"#C8D4E3\", \"minorgridcolor\": \"#C8D4E3\", \"startlinecolor\": \"#2a3f5f\"}, \"baxis\": {\"endlinecolor\": \"#2a3f5f\", \"gridcolor\": \"#C8D4E3\", \"linecolor\": \"#C8D4E3\", \"minorgridcolor\": \"#C8D4E3\", \"startlinecolor\": \"#2a3f5f\"}, \"type\": \"carpet\"}], \"choropleth\": [{\"colorbar\": {\"outlinewidth\": 0, \"ticks\": \"\"}, \"type\": \"choropleth\"}], \"contour\": [{\"colorbar\": {\"outlinewidth\": 0, \"ticks\": \"\"}, \"colorscale\": [[0.0, \"#0d0887\"], [0.1111111111111111, \"#46039f\"], [0.2222222222222222, \"#7201a8\"], [0.3333333333333333, \"#9c179e\"], [0.4444444444444444, \"#bd3786\"], [0.5555555555555556, \"#d8576b\"], [0.6666666666666666, \"#ed7953\"], [0.7777777777777778, \"#fb9f3a\"], [0.8888888888888888, \"#fdca26\"], [1.0, \"#f0f921\"]], \"type\": \"contour\"}], \"contourcarpet\": [{\"colorbar\": {\"outlinewidth\": 0, \"ticks\": \"\"}, \"type\": \"contourcarpet\"}], \"heatmap\": [{\"colorbar\": {\"outlinewidth\": 0, \"ticks\": \"\"}, \"colorscale\": [[0.0, \"#0d0887\"], [0.1111111111111111, \"#46039f\"], [0.2222222222222222, \"#7201a8\"], [0.3333333333333333, \"#9c179e\"], [0.4444444444444444, \"#bd3786\"], [0.5555555555555556, \"#d8576b\"], [0.6666666666666666, \"#ed7953\"], [0.7777777777777778, \"#fb9f3a\"], [0.8888888888888888, \"#fdca26\"], [1.0, \"#f0f921\"]], \"type\": \"heatmap\"}], \"heatmapgl\": [{\"colorbar\": {\"outlinewidth\": 0, \"ticks\": \"\"}, \"colorscale\": [[0.0, \"#0d0887\"], [0.1111111111111111, \"#46039f\"], [0.2222222222222222, \"#7201a8\"], [0.3333333333333333, \"#9c179e\"], [0.4444444444444444, \"#bd3786\"], [0.5555555555555556, \"#d8576b\"], [0.6666666666666666, \"#ed7953\"], [0.7777777777777778, \"#fb9f3a\"], [0.8888888888888888, \"#fdca26\"], [1.0, \"#f0f921\"]], \"type\": \"heatmapgl\"}], \"histogram\": [{\"marker\": {\"colorbar\": {\"outlinewidth\": 0, \"ticks\": \"\"}}, \"type\": \"histogram\"}], \"histogram2d\": [{\"colorbar\": {\"outlinewidth\": 0, \"ticks\": \"\"}, \"colorscale\": [[0.0, \"#0d0887\"], [0.1111111111111111, \"#46039f\"], [0.2222222222222222, \"#7201a8\"], [0.3333333333333333, \"#9c179e\"], [0.4444444444444444, \"#bd3786\"], [0.5555555555555556, \"#d8576b\"], [0.6666666666666666, \"#ed7953\"], [0.7777777777777778, \"#fb9f3a\"], [0.8888888888888888, \"#fdca26\"], [1.0, \"#f0f921\"]], \"type\": \"histogram2d\"}], \"histogram2dcontour\": [{\"colorbar\": {\"outlinewidth\": 0, \"ticks\": \"\"}, \"colorscale\": [[0.0, \"#0d0887\"], [0.1111111111111111, \"#46039f\"], [0.2222222222222222, \"#7201a8\"], [0.3333333333333333, \"#9c179e\"], [0.4444444444444444, \"#bd3786\"], [0.5555555555555556, \"#d8576b\"], [0.6666666666666666, \"#ed7953\"], [0.7777777777777778, \"#fb9f3a\"], [0.8888888888888888, \"#fdca26\"], [1.0, \"#f0f921\"]], \"type\": \"histogram2dcontour\"}], \"mesh3d\": [{\"colorbar\": {\"outlinewidth\": 0, \"ticks\": \"\"}, \"type\": \"mesh3d\"}], \"parcoords\": [{\"line\": {\"colorbar\": {\"outlinewidth\": 0, \"ticks\": \"\"}}, \"type\": \"parcoords\"}], \"pie\": [{\"automargin\": true, \"type\": \"pie\"}], \"scatter\": [{\"marker\": {\"colorbar\": {\"outlinewidth\": 0, \"ticks\": \"\"}}, \"type\": \"scatter\"}], \"scatter3d\": [{\"line\": {\"colorbar\": {\"outlinewidth\": 0, \"ticks\": \"\"}}, \"marker\": {\"colorbar\": {\"outlinewidth\": 0, \"ticks\": \"\"}}, \"type\": \"scatter3d\"}], \"scattercarpet\": [{\"marker\": {\"colorbar\": {\"outlinewidth\": 0, \"ticks\": \"\"}}, \"type\": \"scattercarpet\"}], \"scattergeo\": [{\"marker\": {\"colorbar\": {\"outlinewidth\": 0, \"ticks\": \"\"}}, \"type\": \"scattergeo\"}], \"scattergl\": [{\"marker\": {\"colorbar\": {\"outlinewidth\": 0, \"ticks\": \"\"}}, \"type\": \"scattergl\"}], \"scattermapbox\": [{\"marker\": {\"colorbar\": {\"outlinewidth\": 0, \"ticks\": \"\"}}, \"type\": \"scattermapbox\"}], \"scatterpolar\": [{\"marker\": {\"colorbar\": {\"outlinewidth\": 0, \"ticks\": \"\"}}, \"type\": \"scatterpolar\"}], \"scatterpolargl\": [{\"marker\": {\"colorbar\": {\"outlinewidth\": 0, \"ticks\": \"\"}}, \"type\": \"scatterpolargl\"}], \"scatterternary\": [{\"marker\": {\"colorbar\": {\"outlinewidth\": 0, \"ticks\": \"\"}}, \"type\": \"scatterternary\"}], \"surface\": [{\"colorbar\": {\"outlinewidth\": 0, \"ticks\": \"\"}, \"colorscale\": [[0.0, \"#0d0887\"], [0.1111111111111111, \"#46039f\"], [0.2222222222222222, \"#7201a8\"], [0.3333333333333333, \"#9c179e\"], [0.4444444444444444, \"#bd3786\"], [0.5555555555555556, \"#d8576b\"], [0.6666666666666666, \"#ed7953\"], [0.7777777777777778, \"#fb9f3a\"], [0.8888888888888888, \"#fdca26\"], [1.0, \"#f0f921\"]], \"type\": \"surface\"}], \"table\": [{\"cells\": {\"fill\": {\"color\": \"#EBF0F8\"}, \"line\": {\"color\": \"white\"}}, \"header\": {\"fill\": {\"color\": \"#C8D4E3\"}, \"line\": {\"color\": \"white\"}}, \"type\": \"table\"}]}, \"layout\": {\"annotationdefaults\": {\"arrowcolor\": \"#2a3f5f\", \"arrowhead\": 0, \"arrowwidth\": 1}, \"coloraxis\": {\"colorbar\": {\"outlinewidth\": 0, \"ticks\": \"\"}}, \"colorscale\": {\"diverging\": [[0, \"#8e0152\"], [0.1, \"#c51b7d\"], [0.2, \"#de77ae\"], [0.3, \"#f1b6da\"], [0.4, \"#fde0ef\"], [0.5, \"#f7f7f7\"], [0.6, \"#e6f5d0\"], [0.7, \"#b8e186\"], [0.8, \"#7fbc41\"], [0.9, \"#4d9221\"], [1, \"#276419\"]], \"sequential\": [[0.0, \"#0d0887\"], [0.1111111111111111, \"#46039f\"], [0.2222222222222222, \"#7201a8\"], [0.3333333333333333, \"#9c179e\"], [0.4444444444444444, \"#bd3786\"], [0.5555555555555556, \"#d8576b\"], [0.6666666666666666, \"#ed7953\"], [0.7777777777777778, \"#fb9f3a\"], [0.8888888888888888, \"#fdca26\"], [1.0, \"#f0f921\"]], \"sequentialminus\": [[0.0, \"#0d0887\"], [0.1111111111111111, \"#46039f\"], [0.2222222222222222, \"#7201a8\"], [0.3333333333333333, \"#9c179e\"], [0.4444444444444444, \"#bd3786\"], [0.5555555555555556, \"#d8576b\"], [0.6666666666666666, \"#ed7953\"], [0.7777777777777778, \"#fb9f3a\"], [0.8888888888888888, \"#fdca26\"], [1.0, \"#f0f921\"]]}, \"colorway\": [\"#636efa\", \"#EF553B\", \"#00cc96\", \"#ab63fa\", \"#FFA15A\", \"#19d3f3\", \"#FF6692\", \"#B6E880\", \"#FF97FF\", \"#FECB52\"], \"font\": {\"color\": \"#2a3f5f\"}, \"geo\": {\"bgcolor\": \"white\", \"lakecolor\": \"white\", \"landcolor\": \"white\", \"showlakes\": true, \"showland\": true, \"subunitcolor\": \"#C8D4E3\"}, \"hoverlabel\": {\"align\": \"left\"}, \"hovermode\": \"closest\", \"mapbox\": {\"style\": \"light\"}, \"paper_bgcolor\": \"white\", \"plot_bgcolor\": \"white\", \"polar\": {\"angularaxis\": {\"gridcolor\": \"#EBF0F8\", \"linecolor\": \"#EBF0F8\", \"ticks\": \"\"}, \"bgcolor\": \"white\", \"radialaxis\": {\"gridcolor\": \"#EBF0F8\", \"linecolor\": \"#EBF0F8\", \"ticks\": \"\"}}, \"scene\": {\"xaxis\": {\"backgroundcolor\": \"white\", \"gridcolor\": \"#DFE8F3\", \"gridwidth\": 2, \"linecolor\": \"#EBF0F8\", \"showbackground\": true, \"ticks\": \"\", \"zerolinecolor\": \"#EBF0F8\"}, \"yaxis\": {\"backgroundcolor\": \"white\", \"gridcolor\": \"#DFE8F3\", \"gridwidth\": 2, \"linecolor\": \"#EBF0F8\", \"showbackground\": true, \"ticks\": \"\", \"zerolinecolor\": \"#EBF0F8\"}, \"zaxis\": {\"backgroundcolor\": \"white\", \"gridcolor\": \"#DFE8F3\", \"gridwidth\": 2, \"linecolor\": \"#EBF0F8\", \"showbackground\": true, \"ticks\": \"\", \"zerolinecolor\": \"#EBF0F8\"}}, \"shapedefaults\": {\"line\": {\"color\": \"#2a3f5f\"}}, \"ternary\": {\"aaxis\": {\"gridcolor\": \"#DFE8F3\", \"linecolor\": \"#A2B1C6\", \"ticks\": \"\"}, \"baxis\": {\"gridcolor\": \"#DFE8F3\", \"linecolor\": \"#A2B1C6\", \"ticks\": \"\"}, \"bgcolor\": \"white\", \"caxis\": {\"gridcolor\": \"#DFE8F3\", \"linecolor\": \"#A2B1C6\", \"ticks\": \"\"}}, \"title\": {\"x\": 0.05}, \"xaxis\": {\"automargin\": true, \"gridcolor\": \"#EBF0F8\", \"linecolor\": \"#EBF0F8\", \"ticks\": \"\", \"title\": {\"standoff\": 15}, \"zerolinecolor\": \"#EBF0F8\", \"zerolinewidth\": 2}, \"yaxis\": {\"automargin\": true, \"gridcolor\": \"#EBF0F8\", \"linecolor\": \"#EBF0F8\", \"ticks\": \"\", \"title\": {\"standoff\": 15}, \"zerolinecolor\": \"#EBF0F8\", \"zerolinewidth\": 2}}}, \"title\": {\"text\": \"Per Capita vs. Odds: Positive Cases and Deaths\"}, \"xaxis\": {\"showspikes\": true, \"title\": {\"text\": \"Per Capita: <b>X</b> per 100,000 People\"}, \"type\": \"log\"}, \"yaxis\": {\"autorange\": \"reversed\", \"showspikes\": true, \"title\": {\"text\": \"Odds: 1 in <b>Y</b> People\"}, \"type\": \"log\"}},\n",
       "                        {\"responsive\": true}\n",
       "                    ).then(function(){\n",
       "                            \n",
       "var gd = document.getElementById('922f0b29-fbc6-4f0c-a9bd-6174331fe0f1');\n",
       "var x = new MutationObserver(function (mutations, observer) {{\n",
       "        var display = window.getComputedStyle(gd).display;\n",
       "        if (!display || display === 'none') {{\n",
       "            console.log([gd, 'removed!']);\n",
       "            Plotly.purge(gd);\n",
       "            observer.disconnect();\n",
       "        }}\n",
       "}});\n",
       "\n",
       "// Listen for the removal of the full notebook cells\n",
       "var notebookContainer = gd.closest('#notebook-container');\n",
       "if (notebookContainer) {{\n",
       "    x.observe(notebookContainer, {childList: true});\n",
       "}}\n",
       "\n",
       "// Listen for the clearing of the current output cell\n",
       "var outputEl = gd.closest('.output');\n",
       "if (outputEl) {{\n",
       "    x.observe(outputEl, {childList: true});\n",
       "}}\n",
       "\n",
       "                        })\n",
       "                };\n",
       "                });\n",
       "            </script>\n",
       "        </div>"
      ]
     },
     "metadata": {},
     "output_type": "display_data"
    }
   ],
   "source": [
    "fig = go.Figure()\n",
    "\n",
    "examples = [2, 10, 50, 100, 200, 500, 1000, 10000]\n",
    "\n",
    "fig.add_trace(go.Scatter(\n",
    "    name='Example',\n",
    "    x=examples,\n",
    "    y=[100000/ex for ex in examples],\n",
    "    mode='lines+markers',\n",
    "    hovertemplate = '<b>Example</b><br><b>Per capita:</b> %{x} per 100,000 People<br><b>Odds:</b> 1 in %{y} People<extra></extra>',\n",
    "    opacity=0.5,\n",
    "    line = dict(color='slateblue')\n",
    "))\n",
    "\n",
    "fig.add_trace(go.Scatter(\n",
    "    name='Positive Cases',\n",
    "    x=[np.round(n) for n in df['per_capita_positive']],\n",
    "    y=[np.round(n) for n in df['odds_positive']],\n",
    "    mode='markers',\n",
    "    text=[state_lookup[s] for s in df['state']],\n",
    "    hovertemplate = 'Cases in <b>%{text}</b><br><b>Per capita:</b> %{x} per 100,000 People<br><b>Odds:</b> 1 in %{y} People<extra></extra>',\n",
    "    line = dict(color='purple'),\n",
    "    marker=dict(\n",
    "        size=df['population']/500000\n",
    "    )\n",
    "))\n",
    "\n",
    "fig.add_trace(go.Scatter(\n",
    "    name='Deaths',\n",
    "    x=[np.round(n) for n in df['per_capita_death']],\n",
    "    y=[np.round(n) for n in df['odds_death']],\n",
    "    mode='markers',\n",
    "    text=[state_lookup[s] for s in df['state']],\n",
    "    hovertemplate = 'Deaths in <b>%{text}</b><br><b>Per capita:</b> %{x} per 100,000 People<br><b>Odds:</b> 1 in %{y} People<extra></extra>',\n",
    "    line = dict(color='red'),\n",
    "    marker=dict(\n",
    "        size=df['population']/500000\n",
    "    )\n",
    "))\n",
    "\n",
    "fig.update_xaxes(type=\"log\", showspikes=True)\n",
    "fig.update_yaxes(type=\"log\", autorange=\"reversed\", showspikes=True)\n",
    "fig.update_layout(\n",
    "    template='plotly_white',\n",
    "    xaxis_title=\"Per Capita: <b>X</b> per 100,000 People\",\n",
    "    yaxis_title=\"Odds: 1 in <b>Y</b> People\",\n",
    "    title=\"Per Capita vs. Odds: Positive Cases and Deaths\"\n",
    ")\n",
    "\n",
    "fig.add_annotation(\n",
    "        x=1,\n",
    "        y=1,\n",
    "        text=\"Case & death data from <a href='https://covidtracking.com' target='_blank'>covidtracking.com</a><br>Population data from <a href='https://worldpopulationreview.com/states' target='_blank'>World Population Review</a>\")\n",
    "fig.update_annotations(dict(\n",
    "        xref=\"x\",\n",
    "        yref=\"y\",\n",
    "        showarrow=False,\n",
    "        bordercolor=\"gray\",\n",
    "        borderwidth=2,\n",
    "        borderpad=6,\n",
    "        bgcolor=\"white\"\n",
    "))\n",
    "\n",
    "fig.write_html(\"covid_per_capita_vs_odds.html\")\n",
    "\n",
    "fig.show()"
   ]
  },
  {
   "cell_type": "code",
   "execution_count": null,
   "metadata": {},
   "outputs": [],
   "source": []
  }
 ],
 "metadata": {
  "kernelspec": {
   "display_name": "Python 3",
   "language": "python",
   "name": "python3"
  },
  "language_info": {
   "codemirror_mode": {
    "name": "ipython",
    "version": 3
   },
   "file_extension": ".py",
   "mimetype": "text/x-python",
   "name": "python",
   "nbconvert_exporter": "python",
   "pygments_lexer": "ipython3",
   "version": "3.7.6"
  }
 },
 "nbformat": 4,
 "nbformat_minor": 4
}
